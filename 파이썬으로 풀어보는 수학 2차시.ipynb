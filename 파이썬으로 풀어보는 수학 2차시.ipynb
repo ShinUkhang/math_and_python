{
 "cells": [
  {
   "cell_type": "markdown",
   "metadata": {},
   "source": [
    "# 곱하기 표의 생성"
   ]
  },
  {
   "cell_type": "code",
   "execution_count": 1,
   "metadata": {},
   "outputs": [
    {
     "name": "stdout",
     "output_type": "stream",
     "text": [
      "Number 1: 1 Number 2:3.578\n"
     ]
    }
   ],
   "source": [
    "print('Number 1: {0} Number 2:{1}'.format(1,3.578) )"
   ]
  },
  {
   "cell_type": "code",
   "execution_count": 2,
   "metadata": {},
   "outputs": [
    {
     "name": "stdout",
     "output_type": "stream",
     "text": [
      "숫자를 입력하세요:5\n",
      "5.0 x 1=5.0\n",
      "5.0 x 2=10.0\n",
      "5.0 x 3=15.0\n",
      "5.0 x 4=20.0\n",
      "5.0 x 5=25.0\n",
      "5.0 x 6=30.0\n",
      "5.0 x 7=35.0\n",
      "5.0 x 8=40.0\n",
      "5.0 x 9=45.0\n",
      "5.0 x 10=50.0\n"
     ]
    }
   ],
   "source": [
    "def multi_table(a):\n",
    "    for i in range(1,11):\n",
    "        print('{0} x {1}={2}'.format(a,i,a*i))\n",
    "\n",
    "a=input('숫자를 입력하세요:')\n",
    "multi_table(float(a))"
   ]
  },
  {
   "cell_type": "markdown",
   "metadata": {},
   "source": [
    "## 문제> 15단까지 계산하는 곱셈표를 만들어보자"
   ]
  },
  {
   "cell_type": "code",
   "execution_count": 3,
   "metadata": {},
   "outputs": [
    {
     "data": {
      "text/plain": [
       "'1.25456'"
      ]
     },
     "execution_count": 3,
     "metadata": {},
     "output_type": "execute_result"
    }
   ],
   "source": [
    "'{0}'.format(1.25456)"
   ]
  },
  {
   "cell_type": "code",
   "execution_count": 5,
   "metadata": {},
   "outputs": [
    {
     "data": {
      "text/plain": [
       "'1.25'"
      ]
     },
     "execution_count": 5,
     "metadata": {},
     "output_type": "execute_result"
    }
   ],
   "source": [
    "'{0:.2f}'.format(1.25456)"
   ]
  },
  {
   "cell_type": "code",
   "execution_count": 6,
   "metadata": {},
   "outputs": [
    {
     "data": {
      "text/plain": [
       "37.0"
      ]
     },
     "execution_count": 6,
     "metadata": {},
     "output_type": "execute_result"
    }
   ],
   "source": [
    "F=98.6\n",
    "(F-32)*(5/9)"
   ]
  },
  {
   "cell_type": "code",
   "execution_count": 7,
   "metadata": {},
   "outputs": [
    {
     "data": {
      "text/plain": [
       "98.60000000000001"
      ]
     },
     "execution_count": 7,
     "metadata": {},
     "output_type": "execute_result"
    }
   ],
   "source": [
    "C=37\n",
    "C*(9/5)+32"
   ]
  },
  {
   "cell_type": "markdown",
   "metadata": {},
   "source": [
    "# 단위를 계산하기"
   ]
  },
  {
   "cell_type": "code",
   "execution_count": null,
   "metadata": {},
   "outputs": [],
   "source": [
    "def km_miles():\n",
    "    km=float(input('거리를 km로 입력하세요.'))\n",
    "    miles=km/1.609\n",
    "    print('마일로 변환하면:{0}'.format(miles))\n",
    "    \n",
    "def miles_km():\n",
    "    miles=float(input('거리를 miles로 입력하세요.'))\n",
    "    km=miles*1.609\n",
    "    print('km로 바꾸면 :{0}'.format(km))\n",
    "    \n",
    "choice=input('km에서 miles는 1을 입력, miles에서 km는 2를 입력하세요')\n",
    "\n",
    "if choice=='1':\n",
    "    km_miles()\n",
    "if choice=='2':\n",
    "    miles_km()\n",
    "    \n"
   ]
  },
  {
   "cell_type": "markdown",
   "metadata": {},
   "source": [
    "## 문제> 무게(킬로그램과 파운드)와 온도(섭씨와 화씨)를 변환하는 프로그램을 작성하라."
   ]
  },
  {
   "cell_type": "markdown",
   "metadata": {},
   "source": [
    "# 이차방정식의 근을 구하기 "
   ]
  },
  {
   "cell_type": "code",
   "execution_count": 2,
   "metadata": {},
   "outputs": [
    {
     "name": "stdout",
     "output_type": "stream",
     "text": [
      "a를 입력하세요1\n",
      "b를 입력하세요2\n",
      "c를 입력하세요1\n",
      "x1:-1.0\n",
      "x2:-1.0\n"
     ]
    }
   ],
   "source": [
    "def roots(a,b,c):\n",
    "    D=(b**2-4*a*c)**0.5\n",
    "    x1=(-b+D)/(2*a)\n",
    "    x2=(-b-D)/(2*a)\n",
    "    print('x1:{0}'.format(x1))\n",
    "    print('x2:{0}'.format(x2))\n",
    "\n",
    "a=float(input('a를 입력하세요'))\n",
    "b=float(input('b를 입력하세요'))\n",
    "c=float(input('c를 입력하세요'))\n",
    "\n",
    "roots(a,b,c)"
   ]
  },
  {
   "cell_type": "markdown",
   "metadata": {},
   "source": [
    "## 과제> 사칙연산을 하는 프로그램을 만들어보자."
   ]
  },
  {
   "cell_type": "code",
   "execution_count": null,
   "metadata": {},
   "outputs": [],
   "source": []
  }
 ],
 "metadata": {
  "kernelspec": {
   "display_name": "Python 3",
   "language": "python",
   "name": "python3"
  },
  "language_info": {
   "codemirror_mode": {
    "name": "ipython",
    "version": 3
   },
   "file_extension": ".py",
   "mimetype": "text/x-python",
   "name": "python",
   "nbconvert_exporter": "python",
   "pygments_lexer": "ipython3",
   "version": "3.6.5"
  }
 },
 "nbformat": 4,
 "nbformat_minor": 2
}
