{
 "cells": [
  {
   "cell_type": "markdown",
   "metadata": {},
   "source": [
    "# 수치데이터만 확인할 경우 "
   ]
  },
  {
   "cell_type": "code",
   "execution_count": 2,
   "metadata": {},
   "outputs": [
    {
     "name": "stdout",
     "output_type": "stream",
     "text": [
      "9.0\t3.16\n"
     ]
    },
    {
     "data": {
      "image/png": "[encoded data removed]",
      "text/plain": [
       "<Figure size 432x288 with 1 Axes>"
      ]
     },
     "metadata": {},
     "output_type": "display_data"
    }
   ],
   "source": [
    "import matplotlib.pyplot as plt\n",
    "import numpy as np\n",
    "\n",
    "x1=[10,8,13,9,11,14,6,4,12,7,5]\n",
    "\n",
    "mx1=np.mean(x1)\n",
    "sx1=np.std(x1)\n",
    "\n",
    "print('{0}\\t{1:.2f}'.format(mx1,sx1))\n",
    "plt.plot(x1,'bo')\n",
    "plt.show()"
   ]
  },
  {
   "cell_type": "code",
   "execution_count": 15,
   "metadata": {},
   "outputs": [
    {
     "data": {
      "image/png": "[encoded data removed]",
      "text/plain": [
       "<Figure size 432x288 with 4 Axes>"
      ]
     },
     "metadata": {},
     "output_type": "display_data"
    }
   ],
   "source": [
    "import matplotlib.pyplot as plt\n",
    "import numpy as np\n",
    "import csv\n",
    "\n",
    "f=open('실습파일.csv')\n",
    "data=csv.reader(f)\n",
    "\n",
    "x1=[]\n",
    "y1=[]\n",
    "x2=[]\n",
    "y2=[]\n",
    "x3=[]\n",
    "y3=[]\n",
    "x4=[]\n",
    "y4=[]\n",
    "for row in data:\n",
    "    if 'I'==row[1]:\n",
    "        x1.append(float(row[2]))\n",
    "        y1.append(float(row[3]))\n",
    "    if 'II'==row[1]:\n",
    "        x2.append(float(row[2]))\n",
    "        y2.append(float(row[3]))\n",
    "    if 'III'==row[1]:\n",
    "        x3.append(float(row[2]))\n",
    "        y3.append(float(row[3]))\n",
    "    if 'IV'==row[1]:\n",
    "        x4.append(float(row[2]))\n",
    "        y4.append(float(row[3]))\n",
    "plt.subplot(1,4,1)\n",
    "plt.plot(x1,y1,'ro')\n",
    "plt.subplot(1,4,2)\n",
    "plt.scatter(x2,y2)\n",
    "plt.subplot(1,4,3)\n",
    "plt.scatter(x3,y3)\n",
    "plt.subplot(1,4,4)\n",
    "plt.scatter(x4,y4)\n",
    "plt.show()"
   ]
  },
  {
   "cell_type": "code",
   "execution_count": 3,
   "metadata": {},
   "outputs": [
    {
     "name": "stdout",
     "output_type": "stream",
     "text": [
      "9.0\t3.16\n"
     ]
    }
   ],
   "source": [
    "import matplotlib.pyplot as plt\n",
    "import numpy as np\n",
    "import csv\n",
    "\n",
    "f=open('ascombe.csv')\n",
    "data=csv.reader(f)\n",
    "\n",
    "x1=[]\n",
    "y1=[]\n",
    "\n",
    "for row in data:\n",
    "    if 'I'==row[1]:\n",
    "        x1.append(float(row[2]))\n",
    "        y1.append(float(row[3]))\n",
    "mx1=np.mean(x1)\n",
    "sx1=np.std(x1)\n",
    "print('{0}\\t{1:.2f}'.format(mx1,sx1))\n"
   ]
  },
  {
   "cell_type": "code",
   "execution_count": 4,
   "metadata": {},
   "outputs": [
    {
     "name": "stdout",
     "output_type": "stream",
     "text": [
      "9.0\t3.16\n"
     ]
    }
   ],
   "source": [
    "import matplotlib.pyplot as plt\n",
    "import numpy as np\n",
    "import csv\n",
    "\n",
    "f=open('ascombe.csv')\n",
    "data=csv.reader(f)\n",
    "\n",
    "x1=[]\n",
    "y1=[]\n",
    "\n",
    "for row in data:\n",
    "    if 'II'==row[1]:\n",
    "        x1.append(float(row[2]))\n",
    "        y1.append(float(row[3]))\n",
    "mx1=np.mean(x1)\n",
    "sx1=np.std(x1)\n",
    "print('{0}\\t{1:.2f}'.format(mx1,sx1))\n"
   ]
  },
  {
   "cell_type": "markdown",
   "metadata": {},
   "source": [
    "# 자료의 시각화"
   ]
  },
  {
   "cell_type": "code",
   "execution_count": 26,
   "metadata": {},
   "outputs": [
    {
     "data": {
      "image/png": "[encoded data removed]",
      "text/plain": [
       "<Figure size 432x288 with 1 Axes>"
      ]
     },
     "metadata": {},
     "output_type": "display_data"
    }
   ],
   "source": [
    "import matplotlib.pyplot as plt\n",
    "import numpy as np\n",
    "import csv\n",
    "\n",
    "f=open('ascombe.csv')\n",
    "data=csv.reader(f)\n",
    "\n",
    "x1=[]\n",
    "y1=[]\n",
    "\n",
    "for row in data:\n",
    "    if 'II'==row[1]:\n",
    "        x1.append(float(row[2]))\n",
    "        y1.append(float(row[3]))\n",
    "plt.plot(x1,y1,'bo')\n",
    "plt.show()"
   ]
  },
  {
   "cell_type": "code",
   "execution_count": 25,
   "metadata": {},
   "outputs": [
    {
     "data": {
      "image/png": "[encoded data removed]",
      "text/plain": [
       "<Figure size 432x288 with 4 Axes>"
      ]
     },
     "metadata": {},
     "output_type": "display_data"
    }
   ],
   "source": [
    "import matplotlib.pyplot as plt\n",
    "import numpy as np\n",
    "import csv\n",
    "\n",
    "f=open('ascombe.csv')\n",
    "data=csv.reader(f)\n",
    "\n",
    "x1=[]\n",
    "y1=[]\n",
    "x2=[]\n",
    "y2=[]\n",
    "x3=[]\n",
    "y3=[]\n",
    "x4=[]\n",
    "y4=[]\n",
    "\n",
    "for row in data:\n",
    "    if 'I'==row[1]:\n",
    "        x1.append(float(row[2]))\n",
    "        y1.append(float(row[3]))\n",
    "    if 'II'==row[1]:\n",
    "        x2.append(float(row[2]))\n",
    "        y2.append(float(row[3]))\n",
    "    if 'III'==row[1]:\n",
    "        x3.append(float(row[2]))\n",
    "        y3.append(float(row[3]))\n",
    "    if 'IV'==row[1]:\n",
    "        x4.append(float(row[2]))\n",
    "        y4.append(float(row[3]))\n",
    "plt.subplot(2,2,1)\n",
    "plt.scatter(x1,y1)\n",
    "plt.subplot(2,2,2)\n",
    "plt.scatter(x2,y2)\n",
    "plt.subplot(2,2,3)\n",
    "plt.scatter(x3,y3)\n",
    "plt.subplot(2,2,4)\n",
    "plt.scatter(x4,y4)\n",
    "plt.show()"
   ]
  },
  {
   "cell_type": "markdown",
   "metadata": {},
   "source": [
    "# 인수분해와 전개"
   ]
  },
  {
   "cell_type": "code",
   "execution_count": 16,
   "metadata": {},
   "outputs": [
    {
     "ename": "NameError",
     "evalue": "name 'x' is not defined",
     "output_type": "error",
     "traceback": [
      "\u001b[1;31m---------------------------------------------------------------------------\u001b[0m",
      "\u001b[1;31mNameError\u001b[0m                                 Traceback (most recent call last)",
      "\u001b[1;32m<ipython-input-16-a94be5441f18>\u001b[0m in \u001b[0;36m<module>\u001b[1;34m()\u001b[0m\n\u001b[1;32m----> 1\u001b[1;33m \u001b[0mx\u001b[0m\u001b[1;33m+\u001b[0m\u001b[0mx\u001b[0m\u001b[1;33m\u001b[0m\u001b[0m\n\u001b[0m",
      "\u001b[1;31mNameError\u001b[0m: name 'x' is not defined"
     ]
    }
   ],
   "source": [
    "x+x"
   ]
  },
  {
   "cell_type": "code",
   "execution_count": 27,
   "metadata": {},
   "outputs": [
    {
     "data": {
      "text/plain": [
       "2*x + 1"
      ]
     },
     "execution_count": 27,
     "metadata": {},
     "output_type": "execute_result"
    }
   ],
   "source": [
    "from sympy import Symbol\n",
    "x=Symbol('x')\n",
    "x+x+1"
   ]
  },
  {
   "cell_type": "code",
   "execution_count": 18,
   "metadata": {},
   "outputs": [
    {
     "data": {
      "text/plain": [
       "2*x*y"
      ]
     },
     "execution_count": 18,
     "metadata": {},
     "output_type": "execute_result"
    }
   ],
   "source": [
    "from sympy import symbols\n",
    "x,y,z=symbols('x,y,z')\n",
    "s=x*y+x*y\n",
    "s"
   ]
  },
  {
   "cell_type": "code",
   "execution_count": 32,
   "metadata": {},
   "outputs": [
    {
     "data": {
      "text/plain": [
       "(x - y)*(x + y)"
      ]
     },
     "execution_count": 32,
     "metadata": {},
     "output_type": "execute_result"
    }
   ],
   "source": [
    "from sympy import factor\n",
    "expr=x**2-y**2\n",
    "factor(expr)"
   ]
  },
  {
   "cell_type": "code",
   "execution_count": 34,
   "metadata": {},
   "outputs": [
    {
     "data": {
      "text/plain": [
       "x**2 - y**2"
      ]
     },
     "execution_count": 34,
     "metadata": {},
     "output_type": "execute_result"
    }
   ],
   "source": [
    "from sympy import expand\n",
    "expr=(x-y)*(x+y)\n",
    "expand(expr)"
   ]
  },
  {
   "cell_type": "code",
   "execution_count": 35,
   "metadata": {},
   "outputs": [
    {
     "name": "stdout",
     "output_type": "stream",
     "text": [
      "(x - y)⋅(x + y)\n"
     ]
    }
   ],
   "source": [
    "from sympy import factor\n",
    "from sympy import pprint\n",
    "expr=x**2-y**2\n",
    "fact=factor(expr)\n",
    "pprint(fact)"
   ]
  },
  {
   "cell_type": "code",
   "execution_count": 38,
   "metadata": {},
   "outputs": [
    {
     "name": "stdout",
     "output_type": "stream",
     "text": [
      " 2    2\n",
      "x  - y \n"
     ]
    }
   ],
   "source": [
    "from sympy import expand\n",
    "from sympy import pprint\n",
    "expr=(x-y)*(x+y)\n",
    "expr=expand(expr)\n",
    "pprint(expr)"
   ]
  },
  {
   "cell_type": "code",
   "execution_count": null,
   "metadata": {},
   "outputs": [],
   "source": []
  }
 ],
 "metadata": {
  "kernelspec": {
   "display_name": "Python 3",
   "language": "python",
   "name": "python3"
  },
  "language_info": {
   "codemirror_mode": {
    "name": "ipython",
    "version": 3
   },
   "file_extension": ".py",
   "mimetype": "text/x-python",
   "name": "python",
   "nbconvert_exporter": "python",
   "pygments_lexer": "ipython3",
   "version": "3.6.5"
  }
 },
 "nbformat": 4,
 "nbformat_minor": 2
}
